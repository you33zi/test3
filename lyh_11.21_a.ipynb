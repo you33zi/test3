{
 "cells": [
  {
   "cell_type": "code",
   "execution_count": 61,
   "id": "b4c2ffaf-b226-4e8e-aae7-4a895f32b62e",
   "metadata": {
    "execution": {
     "iopub.execute_input": "2024-11-21T07:54:58.871360Z",
     "iopub.status.busy": "2024-11-21T07:54:58.870869Z",
     "iopub.status.idle": "2024-11-21T07:54:59.143524Z",
     "shell.execute_reply": "2024-11-21T07:54:59.142397Z",
     "shell.execute_reply.started": "2024-11-21T07:54:58.871318Z"
    },
    "tags": []
   },
   "outputs": [
    {
     "name": "stdout",
     "output_type": "stream",
     "text": [
      "VideoObject(id='62131732094676411-9221302343160238912', model='cogvideox', video_result=None, task_status='PROCESSING', request_id='-9221302343160238913')\n"
     ]
    }
   ],
   "source": [
    "from zhipuai import ZhipuAI\n",
    "client = ZhipuAI(api_key=\"694a256596af7da9970cbf7935bb8944.idHCqcfNrakdtLYY\") # 请填写您自己的APIKey\n",
    "response = client.videos.generations(\n",
    "    model=\"cogvideox\",\n",
    "    prompt=\"海绵宝宝在疯狂地笑\"\n",
    ")\n",
    "print (response)"
   ]
  },
  {
   "cell_type": "code",
   "execution_count": 63,
   "id": "fc79e14d-81ce-4fea-9ee0-61692158e85b",
   "metadata": {
    "execution": {
     "iopub.execute_input": "2024-11-21T07:55:36.503111Z",
     "iopub.status.busy": "2024-11-21T07:55:36.502413Z",
     "iopub.status.idle": "2024-11-21T07:55:36.667307Z",
     "shell.execute_reply": "2024-11-21T07:55:36.666227Z",
     "shell.execute_reply.started": "2024-11-21T07:55:36.503067Z"
    },
    "tags": []
   },
   "outputs": [
    {
     "name": "stdout",
     "output_type": "stream",
     "text": [
      "VideoObject(id=None, model='cogvideox', video_result=[VideoResult(url='https://aigc-files.bigmodel.cn/api/cogvideo/e7da00d0-a7dd-11ef-bd78-9ee7942420ea_0.mp4', cover_image_url='https://aigc-files.bigmodel.cn/api/cogvideo/e7da00d0-a7dd-11ef-bd78-9ee7942420ea_cover_0.jpeg')], task_status='SUCCESS', request_id='-9221302343160238913')\n"
     ]
    }
   ],
   "source": [
    "from zhipuai import ZhipuAI\n",
    "Iclient = ZhipuAI(api_key=\"694a256596af7da9970cbf7935bb8944.idHCqcfNrakdtLYY\") # 请填写您自己的APIKey\n",
    "response = client.videos.retrieve_videos_result(\n",
    "    id=\"62131732094676411-9221302343160238912\"\n",
    ")    \n",
    "print(response)"
   ]
  },
  {
   "cell_type": "code",
   "execution_count": null,
   "id": "7aac5e4d-acbc-45ec-a50d-08eb371a92e6",
   "metadata": {},
   "outputs": [],
   "source": []
  },
  {
   "cell_type": "code",
   "execution_count": null,
   "id": "e0c22127-c7b7-4da1-8330-a0f74d57ba4b",
   "metadata": {},
   "outputs": [],
   "source": []
  },
  {
   "cell_type": "code",
   "execution_count": null,
   "id": "ed1f41d8-434f-4b19-b4a3-cc9f24ad3cde",
   "metadata": {},
   "outputs": [],
   "source": []
  },
  {
   "cell_type": "code",
   "execution_count": null,
   "id": "79979dd1-155e-4de1-81e5-737ace122344",
   "metadata": {},
   "outputs": [],
   "source": []
  },
  {
   "cell_type": "code",
   "execution_count": null,
   "id": "62b4b980-ca4a-4b3f-bb8f-7f2d962edf8a",
   "metadata": {},
   "outputs": [],
   "source": []
  },
  {
   "cell_type": "code",
   "execution_count": null,
   "id": "b3620c43-1df0-495c-a162-702201995174",
   "metadata": {},
   "outputs": [],
   "source": []
  },
  {
   "cell_type": "code",
   "execution_count": null,
   "id": "d270648d-76be-4172-a5b8-f9cb0d75d59b",
   "metadata": {},
   "outputs": [],
   "source": []
  },
  {
   "cell_type": "code",
   "execution_count": null,
   "id": "24ec67cb-3d3e-4a1f-a917-20d99f308089",
   "metadata": {},
   "outputs": [],
   "source": []
  },
  {
   "cell_type": "code",
   "execution_count": null,
   "id": "a1713f7a-c29e-40e9-bb4d-096c24c47e66",
   "metadata": {},
   "outputs": [],
   "source": []
  }
 ],
 "metadata": {
  "kernelspec": {
   "display_name": "Python 3 (ipykernel)",
   "language": "python",
   "name": "python3"
  },
  "language_info": {
   "codemirror_mode": {
    "name": "ipython",
    "version": 3
   },
   "file_extension": ".py",
   "mimetype": "text/x-python",
   "name": "python",
   "nbconvert_exporter": "python",
   "pygments_lexer": "ipython3",
   "version": "3.8.18"
  }
 },
 "nbformat": 4,
 "nbformat_minor": 5
}
