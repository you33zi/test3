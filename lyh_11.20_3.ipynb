{
 "cells": [
  {
   "cell_type": "code",
   "execution_count": 3,
   "id": "5095e759-6e10-4acd-bed1-848058a45c79",
   "metadata": {},
   "outputs": [],
   "source": []
  },
  {
   "cell_type": "code",
   "execution_count": 5,
   "id": "dd4e0356-785d-4451-933d-5f20994b128e",
   "metadata": {},
   "outputs": [],
   "source": []
  },
  {
   "cell_type": "code",
   "execution_count": 6,
   "id": "1298c62d-faa1-4a8e-9f74-9851d3fdf433",
   "metadata": {},
   "outputs": [],
   "source": []
  },
  {
   "cell_type": "code",
   "execution_count": null,
   "id": "a5b1de4a-9f2a-4f32-ad70-29dbb1e7d7e2",
   "metadata": {},
   "outputs": [],
   "source": []
  },
  {
   "cell_type": "code",
   "execution_count": null,
   "id": "3867828c-6aed-440d-acae-ae7047ce3452",
   "metadata": {},
   "outputs": [],
   "source": []
  },
  {
   "cell_type": "code",
   "execution_count": null,
   "id": "46098099-a092-4a96-b6d9-bba431e5af8a",
   "metadata": {},
   "outputs": [],
   "source": []
  },
  {
   "cell_type": "code",
   "execution_count": null,
   "id": "3ee32af6-a731-4ecc-be9f-97aa21b3afe7",
   "metadata": {},
   "outputs": [],
   "source": []
  },
  {
   "cell_type": "code",
   "execution_count": null,
   "id": "a2293d06-8c3b-40fd-9278-59946d43bb33",
   "metadata": {},
   "outputs": [],
   "source": []
  },
  {
   "cell_type": "code",
   "execution_count": 4,
   "id": "cfbfe686-b054-4e9f-b4bf-9e9a18d934e6",
   "metadata": {},
   "outputs": [],
   "source": [
    "import os\n",
    "from zhipuai import ZhipuAI\n",
    "import base64\n",
    "# 导入base64库，用于将视频文件编码成base64字符串格式\n",
    "os.environ[\"ZHIPUAI_API_KEY\"] = \"f1e7a04cf637d9d7d0d09b47601ef483.axwNkzuc0dbjII7a\"\n",
    "client = ZhipuAI()"
   ]
  },
  {
   "cell_type": "code",
   "execution_count": 5,
   "id": "0b272ab6-8c38-474f-90ca-2661b595c317",
   "metadata": {},
   "outputs": [
    {
     "name": "stdout",
     "output_type": "stream",
     "text": [
      "通常来说,视频理解的响应时间较长,需要等待数十秒......\n",
      "CompletionMessage(content='这是一个《我的世界》游戏视频。一开始，画面中出现了“NO.1”的白色字样，周围是绿色的草地、蓝色的海洋以及棕色的方块建筑。接着，镜头切换到一个拿着剑的玩家身上，他正在和一只末影人战斗。末影人在空中漂浮着，发出紫色的光。随后，画面又切换到另一个场景，一个穿着绿色衣服的村民正站在草地上，手里拿着一把钻石剑。在接下来的场景中，这个村民被一群怪物包围了，包括僵尸、骷髅和蜘蛛等。\\n\\n然后，画面再次回到之前那个拿着剑的玩家身上，他正在和一只末影人战斗。末影人在空中漂浮着，发出紫色的光。接着，画面又切换到了另一个场景，一个穿着黑色衣服的玩家正拿着一把附魔了的弓箭，准备射击。最后，画面回到了第一个场景中的那个拿着剑的玩家身上，他正在和一只末影人战斗。末影人在空中漂浮着，发出紫色的光。', role='assistant', tool_calls=None)\n"
     ]
    }
   ],
   "source": [
    "video_path = \"123.mp4\" \n",
    "#设置视频文件的路径\n",
    "with open(video_path, 'rb') as video_file:# 以“二进制读”模式打开视频文件\n",
    "    video_base = base64.b64encode(video_file.read()).decode('utf-8')# 把视频文件编码成智谱支持的video_base64字符串，再解码成utf-8格式字符串\n",
    "print(\"通常来说,视频理解的响应时间较长,需要等待数十秒......\")\n",
    "response = client.chat.completions.create( # 直接调补全接口\n",
    "    model=\"glm-4v-plus\",# 设置智谱具体大模型，glm-4v-plus支持视频理解\n",
    "    temperature=0.0,#设置温度参数,控制生成文本的随机性, 0.0表示不随机,输出最可能的文本\n",
    "    top_p=0,# 设置top_p参数，控制生成文本的多样性，0表示不使用此参数\n",
    "    messages=[{ #设置消息列表\n",
    "        \"role\": \"user\", #指定消息的角色为用户\n",
    "        \"content\": [{ # 定义消息内容列表\n",
    "            \"type\": \"video_url\", # 设置视频链接\n",
    "            \"video_url\": {\"url\": video_base} # 将编码后的视频以base64字符串形式作为链接\n",
    "          },{\n",
    "            \"type\":\"text\",# 设置提问/提示词类型为文本\n",
    "            \"text\": \"请仔细描述视频内容\" #设置提问/提示词\n",
    "          }]\n",
    "    }]\n",
    ")\n",
    "print(response.choices[0].message) # 输出回答列表中的第一个选项中的消息"
   ]
  },
  {
   "cell_type": "code",
   "execution_count": null,
   "id": "4db6e0c2-9291-4999-a26a-e8321068379c",
   "metadata": {},
   "outputs": [],
   "source": []
  },
  {
   "cell_type": "code",
   "execution_count": null,
   "id": "c4a14f8c-59e7-4e5a-aa16-3fc9922222c8",
   "metadata": {},
   "outputs": [],
   "source": []
  },
  {
   "cell_type": "code",
   "execution_count": null,
   "id": "d53bd332-caaa-43f8-8e20-6db61417b0e7",
   "metadata": {},
   "outputs": [],
   "source": []
  },
  {
   "cell_type": "code",
   "execution_count": null,
   "id": "5a6a844b-d7e8-421c-adc2-8a1f2efcf211",
   "metadata": {},
   "outputs": [],
   "source": []
  },
  {
   "cell_type": "code",
   "execution_count": null,
   "id": "c3efbece-f1ed-41cf-a279-b694296adcfb",
   "metadata": {},
   "outputs": [],
   "source": []
  },
  {
   "cell_type": "code",
   "execution_count": null,
   "id": "02e2fca5-963e-45f0-9b27-cf7ca460360d",
   "metadata": {},
   "outputs": [],
   "source": []
  },
  {
   "cell_type": "code",
   "execution_count": null,
   "id": "9f1f41e8-775b-4ea4-bc51-548258f3a8d7",
   "metadata": {},
   "outputs": [],
   "source": []
  },
  {
   "cell_type": "code",
   "execution_count": null,
   "id": "f080c394-fa15-4c16-bf55-b820aefb8fc5",
   "metadata": {},
   "outputs": [],
   "source": []
  },
  {
   "cell_type": "code",
   "execution_count": null,
   "id": "6d815b0e-a275-45fd-a741-c7f217e66563",
   "metadata": {},
   "outputs": [],
   "source": []
  }
 ],
 "metadata": {
  "kernelspec": {
   "display_name": "Python 3 (ipykernel)",
   "language": "python",
   "name": "python3"
  },
  "language_info": {
   "codemirror_mode": {
    "name": "ipython",
    "version": 3
   },
   "file_extension": ".py",
   "mimetype": "text/x-python",
   "name": "python",
   "nbconvert_exporter": "python",
   "pygments_lexer": "ipython3",
   "version": "3.9.7"
  }
 },
 "nbformat": 4,
 "nbformat_minor": 5
}
