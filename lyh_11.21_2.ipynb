{
 "cells": [
  {
   "cell_type": "code",
   "execution_count": 1,
   "id": "3b76f6cd-d296-43af-9789-ed6e70db9ec0",
   "metadata": {},
   "outputs": [],
   "source": [
    "from sklearn.datasets import load_breast_cancer\n",
    "from sklearn.model_selection import train_test_split\n",
    "from sklearn.linear_model import LogisticRegression\n",
    "from sklearn.metrics import classification_report, accuracy_score"
   ]
  },
  {
   "cell_type": "code",
   "execution_count": 2,
   "id": "b6da0483-1c60-48f0-b0c2-8a18b2cbf7e6",
   "metadata": {},
   "outputs": [],
   "source": [
    "# 加载 sklearn 自带的乳腺癌（分类）数据集\n",
    "X, y = load_breast_cancer(return_X_y=True)"
   ]
  },
  {
   "cell_type": "code",
   "execution_count": 3,
   "id": "75480439-28fb-471b-9fd3-37bb52550401",
   "metadata": {},
   "outputs": [],
   "source": [
    "#以指定比例将数据集分为训练集和测试集\n",
    "X_train, X_test, y_train, y_test = train_test_split(\n",
    "    X, y,\n",
    "    train_size=0.875, test_size=0.125, random_state=188\n",
    ")"
   ]
  },
  {
   "cell_type": "code",
   "execution_count": 7,
   "id": "4c68667f-a3da-41d4-b8e4-02ba2fa95fc0",
   "metadata": {},
   "outputs": [
    {
     "data": {
      "text/plain": [
       "LogisticRegression(max_iter=3000, multi_class='ovr')"
      ]
     },
     "execution_count": 7,
     "metadata": {},
     "output_type": "execute_result"
    }
   ],
   "source": [
    "#使用lr类,初始化模型\n",
    "clf = LogisticRegression(\n",
    "    penalty=\"l2\", C=1.0, random_state=None, solver=\"lbfgs\", max_iter=3000,\n",
    "    multi_class='ovr', verbose=0,\n",
    ")\n",
    "#使用训练数据来学习（拟合）\n",
    "clf.fit(X_train, y_train)"
   ]
  },
  {
   "cell_type": "code",
   "execution_count": 9,
   "id": "504bb8d8-a108-498f-961d-acb5dab051a4",
   "metadata": {},
   "outputs": [],
   "source": [
    "#使用测试数据来预测,返回值预测分类数据\n",
    "y_pred = clf.predict(X_test)"
   ]
  },
  {
   "cell_type": "code",
   "execution_count": 10,
   "id": "b68286e7-e184-4296-a801-adf34cf36376",
   "metadata": {},
   "outputs": [
    {
     "name": "stdout",
     "output_type": "stream",
     "text": [
      "--- report ---\n",
      "              precision    recall  f1-score   support\n",
      "\n",
      "           0       0.96      0.96      0.96        27\n",
      "           1       0.98      0.98      0.98        45\n",
      "\n",
      "    accuracy                           0.97        72\n",
      "   macro avg       0.97      0.97      0.97        72\n",
      "weighted avg       0.97      0.97      0.97        72\n",
      "\n",
      "--- params ---\n",
      "[[ 0.89960769  0.17888852 -0.30396602  0.02572356 -0.17667936 -0.19319243\n",
      "  -0.56543832 -0.30645813 -0.25374937 -0.02428212 -0.07407326  1.09546992\n",
      "   0.11108786 -0.10663238 -0.02759738  0.0854027  -0.03498365 -0.0387471\n",
      "  -0.03079349  0.01957814  0.26004763 -0.45621821 -0.07916768 -0.01658918\n",
      "  -0.36072651 -0.6348124  -1.54604075 -0.6192092  -0.72734147 -0.06821056]] [28.59968311]\n",
      "---accuracy---\n",
      "0.9722222222222222\n"
     ]
    }
   ],
   "source": [
    "#打印主要分类指标的文本报告\n",
    "print('--- report ---')\n",
    "print(classification_report(y_test, y_pred))\n",
    "# 打印模型的参数\n",
    "print('--- params ---')\n",
    "print(clf.coef_, clf.intercept_)\n",
    "# 打印准确率\n",
    "print('---accuracy---')\n",
    "print(accuracy_score(y_test, y_pred))"
   ]
  },
  {
   "cell_type": "code",
   "execution_count": null,
   "id": "c1c9cbd2-0e5d-4810-a80b-e29170063f3a",
   "metadata": {},
   "outputs": [],
   "source": [
    "8526b759612a90010597676c434c4cc7.EtBH17sTyvHY9ARP"
   ]
  },
  {
   "cell_type": "code",
   "execution_count": 1,
   "id": "27f43855-4e33-4c61-9503-b3260b8d3f38",
   "metadata": {},
   "outputs": [],
   "source": [
    "import os\n",
    "from zhipuai import ZhipuAI\n",
    "import base64\n",
    "os.environ[\"ZHIPUAI_API_KEY\"] = \"8526b759612a90010597676c434c4cc7.EtBH17sTyvHY9ARP\"\n",
    "client = ZhipuAI()"
   ]
  },
  {
   "cell_type": "code",
   "execution_count": 21,
   "id": "1c28293a-9ac0-4f0f-b79e-4b539447841a",
   "metadata": {},
   "outputs": [
    {
     "name": "stdout",
     "output_type": "stream",
     "text": [
      "通常来说,视频理解的响应时间较长,需要等待数十秒......\n",
      "CompletionMessage(content='画面中，一个绿色的怪物站在冰面上，它先是左右晃动身体，然后，它张开翅膀飞了起来，接着，它又落在了冰面上。', role='assistant', tool_calls=None)\n"
     ]
    }
   ],
   "source": [
    "video_path = \"892129376.mp4\" #设置视频文件的路径\n",
    "with open(video_path, 'rb') as video_file: #以\"二进制读\"模式打开视频文件\n",
    "    video_base = base64.b64encode(video_file.read()).decode('utf-8')# 把视频文件编码成智谱支持的video_base64字符申，再解码成utf-8格式字符申\n",
    "print(\"通常来说,视频理解的响应时间较长,需要等待数十秒......\")\n",
    "response = client.chat.completions.create( # 直接调补全接口\n",
    "    model=\"glm-4v-plus\", #设置智谱具体大模型，glm-4v-plus支持视频理解\n",
    "    temperature=0.0,#设置温度参数,控制生成文本的随机性,0.0表示不随机,输出最可能的文本\n",
    "    top_p=0,# 设置top_p参数，控制生成文本的多样性，0表示不使用此参数\n",
    "\n",
    "    messages=[{# 设置消息列表\n",
    "        \"role\":\"user\",# 指定消息的角色为用户\n",
    "        \"content\": [{ #定义消息内容列表\n",
    "        \"type\": \"video_url\", #设置视频链接\n",
    "        \"video_url\": {\"url\" : video_base} #将编码后的视频以base64字符串形式作为链接\n",
    "        },{\n",
    "        \"type\": \"text\", #设置提问/提示词类型为文本\n",
    "        \"text\":\"描述视频里在干什么\"# 设置提问/提示词\n",
    "        }]\n",
    "    }]\n",
    ")\n",
    "print(response.choices[0].message) #输出回答列表中的第一个选项中的消息"
   ]
  },
  {
   "cell_type": "code",
   "execution_count": 13,
   "id": "6c1ab8d5-7c80-43e7-af9b-c1e435d6d74d",
   "metadata": {},
   "outputs": [
    {
     "data": {
      "text/plain": [
       "'C:\\\\Users\\\\admin\\\\Desktop'"
      ]
     },
     "execution_count": 13,
     "metadata": {},
     "output_type": "execute_result"
    }
   ],
   "source": [
    "pwd"
   ]
  },
  {
   "cell_type": "code",
   "execution_count": null,
   "id": "e01550a3-837e-4ce5-9869-888cc85e62bc",
   "metadata": {},
   "outputs": [],
   "source": []
  },
  {
   "cell_type": "code",
   "execution_count": null,
   "id": "69fe2563-d62c-416e-b3fd-67a0ca7d025a",
   "metadata": {},
   "outputs": [],
   "source": []
  },
  {
   "cell_type": "code",
   "execution_count": null,
   "id": "f0f5a89d-f038-427d-a2e7-feff07048172",
   "metadata": {},
   "outputs": [],
   "source": []
  },
  {
   "cell_type": "code",
   "execution_count": null,
   "id": "17d56c42-f5aa-4127-88e4-4bd3a8ea7c55",
   "metadata": {},
   "outputs": [],
   "source": []
  },
  {
   "cell_type": "code",
   "execution_count": null,
   "id": "e767a825-cba5-4ec9-a26d-960326992942",
   "metadata": {},
   "outputs": [],
   "source": []
  },
  {
   "cell_type": "code",
   "execution_count": null,
   "id": "ce6db11d-21a9-4946-a38c-4a9aa3662dd8",
   "metadata": {},
   "outputs": [],
   "source": []
  },
  {
   "cell_type": "code",
   "execution_count": null,
   "id": "040b5ca6-6025-445e-a02d-c1ecdb8c281c",
   "metadata": {},
   "outputs": [],
   "source": []
  }
 ],
 "metadata": {
  "kernelspec": {
   "display_name": "Python 3 (ipykernel)",
   "language": "python",
   "name": "python3"
  },
  "language_info": {
   "codemirror_mode": {
    "name": "ipython",
    "version": 3
   },
   "file_extension": ".py",
   "mimetype": "text/x-python",
   "name": "python",
   "nbconvert_exporter": "python",
   "pygments_lexer": "ipython3",
   "version": "3.9.7"
  }
 },
 "nbformat": 4,
 "nbformat_minor": 5
}
